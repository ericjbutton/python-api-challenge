{
 "cells": [
  {
   "cell_type": "code",
   "execution_count": 11,
   "id": "ac94e5a1",
   "metadata": {},
   "outputs": [],
   "source": [
    "# Dependencies and Setup\n",
    "import matplotlib.pyplot as plt\n",
    "import pandas as pd\n",
    "import numpy as np\n",
    "import requests\n",
    "import gmaps\n",
    "import os\n",
    "\n",
    "# Import API key\n",
    "from api_keys import gkey"
   ]
  },
  {
   "cell_type": "code",
   "execution_count": 12,
   "id": "9bdd4ec6",
   "metadata": {},
   "outputs": [],
   "source": [
    "#Load previous csv\n",
    "weather_df = pd.read_csv('output_data/cities.csv',index_col=0)"
   ]
  },
  {
   "cell_type": "code",
   "execution_count": 14,
   "id": "9c2b2d71",
   "metadata": {},
   "outputs": [
    {
     "data": {
      "text/html": [
       "<div>\n",
       "<style scoped>\n",
       "    .dataframe tbody tr th:only-of-type {\n",
       "        vertical-align: middle;\n",
       "    }\n",
       "\n",
       "    .dataframe tbody tr th {\n",
       "        vertical-align: top;\n",
       "    }\n",
       "\n",
       "    .dataframe thead th {\n",
       "        text-align: right;\n",
       "    }\n",
       "</style>\n",
       "<table border=\"1\" class=\"dataframe\">\n",
       "  <thead>\n",
       "    <tr style=\"text-align: right;\">\n",
       "      <th></th>\n",
       "      <th>City</th>\n",
       "      <th>Temperature(F)</th>\n",
       "      <th>Latitude</th>\n",
       "      <th>Longitude</th>\n",
       "      <th>Humidity</th>\n",
       "      <th>Cloudiness</th>\n",
       "      <th>Wind Speed</th>\n",
       "    </tr>\n",
       "  </thead>\n",
       "  <tbody>\n",
       "    <tr>\n",
       "      <th>0</th>\n",
       "      <td>yablonovo</td>\n",
       "      <td>64.08</td>\n",
       "      <td>50.8523</td>\n",
       "      <td>37.3574</td>\n",
       "      <td>75</td>\n",
       "      <td>57</td>\n",
       "      <td>6.33</td>\n",
       "    </tr>\n",
       "    <tr>\n",
       "      <th>1</th>\n",
       "      <td>rikitea</td>\n",
       "      <td>74.03</td>\n",
       "      <td>-23.1203</td>\n",
       "      <td>-134.9692</td>\n",
       "      <td>80</td>\n",
       "      <td>100</td>\n",
       "      <td>17.22</td>\n",
       "    </tr>\n",
       "    <tr>\n",
       "      <th>2</th>\n",
       "      <td>mount gambier</td>\n",
       "      <td>54.21</td>\n",
       "      <td>-37.8333</td>\n",
       "      <td>140.7667</td>\n",
       "      <td>58</td>\n",
       "      <td>100</td>\n",
       "      <td>13.42</td>\n",
       "    </tr>\n",
       "    <tr>\n",
       "      <th>3</th>\n",
       "      <td>lasa</td>\n",
       "      <td>62.37</td>\n",
       "      <td>46.6166</td>\n",
       "      <td>10.7002</td>\n",
       "      <td>88</td>\n",
       "      <td>6</td>\n",
       "      <td>1.74</td>\n",
       "    </tr>\n",
       "    <tr>\n",
       "      <th>4</th>\n",
       "      <td>port alfred</td>\n",
       "      <td>60.19</td>\n",
       "      <td>-33.5906</td>\n",
       "      <td>26.8910</td>\n",
       "      <td>86</td>\n",
       "      <td>55</td>\n",
       "      <td>5.01</td>\n",
       "    </tr>\n",
       "  </tbody>\n",
       "</table>\n",
       "</div>"
      ],
      "text/plain": [
       "            City  Temperature(F)  Latitude  Longitude  Humidity  Cloudiness  \\\n",
       "0      yablonovo           64.08   50.8523    37.3574        75          57   \n",
       "1        rikitea           74.03  -23.1203  -134.9692        80         100   \n",
       "2  mount gambier           54.21  -37.8333   140.7667        58         100   \n",
       "3           lasa           62.37   46.6166    10.7002        88           6   \n",
       "4    port alfred           60.19  -33.5906    26.8910        86          55   \n",
       "\n",
       "   Wind Speed  \n",
       "0        6.33  \n",
       "1       17.22  \n",
       "2       13.42  \n",
       "3        1.74  \n",
       "4        5.01  "
      ]
     },
     "execution_count": 14,
     "metadata": {},
     "output_type": "execute_result"
    }
   ],
   "source": [
    "weather_df.head()"
   ]
  },
  {
   "cell_type": "code",
   "execution_count": 15,
   "id": "2ad9ddfd",
   "metadata": {},
   "outputs": [],
   "source": [
    "#Configure gmaps with API key\n",
    "gmaps.configure(api_key=gkey)"
   ]
  },
  {
   "cell_type": "code",
   "execution_count": 21,
   "id": "247ec808",
   "metadata": {},
   "outputs": [],
   "source": [
    "#create heatmap variables\n",
    "locations = weather_df[['Latitude','Longitude']].astype(float)\n",
    "humidity = weather_df['Humidity'].astype(float)"
   ]
  },
  {
   "cell_type": "code",
   "execution_count": 25,
   "id": "4bbc5f22",
   "metadata": {},
   "outputs": [
    {
     "data": {
      "application/vnd.jupyter.widget-view+json": {
       "model_id": "2f2af583de874bee9da093b09d3fc3ae",
       "version_major": 2,
       "version_minor": 0
      },
      "text/plain": [
       "Figure(layout=FigureLayout(height='420px'))"
      ]
     },
     "metadata": {},
     "output_type": "display_data"
    }
   ],
   "source": [
    "#create humidity heatmap\n",
    "fig = gmaps.figure()\n",
    "\n",
    "heat_layer = gmaps.heatmap_layer(locations,weights = humidity, dissipating = False, max_intensity = 100, point_radius = 5)\n",
    "\n",
    "fig.add_layer(heat_layer)\n",
    "\n",
    "fig"
   ]
  },
  {
   "cell_type": "code",
   "execution_count": 39,
   "id": "01891929",
   "metadata": {},
   "outputs": [],
   "source": [
    "#Weather Criteria\n",
    "high_temp = 75\n",
    "low_temp = 65\n",
    "max_wind_speed = 10\n",
    "max_humidity = 50"
   ]
  },
  {
   "cell_type": "code",
   "execution_count": 40,
   "id": "6ed830e7",
   "metadata": {},
   "outputs": [
    {
     "data": {
      "text/html": [
       "<div>\n",
       "<style scoped>\n",
       "    .dataframe tbody tr th:only-of-type {\n",
       "        vertical-align: middle;\n",
       "    }\n",
       "\n",
       "    .dataframe tbody tr th {\n",
       "        vertical-align: top;\n",
       "    }\n",
       "\n",
       "    .dataframe thead th {\n",
       "        text-align: right;\n",
       "    }\n",
       "</style>\n",
       "<table border=\"1\" class=\"dataframe\">\n",
       "  <thead>\n",
       "    <tr style=\"text-align: right;\">\n",
       "      <th></th>\n",
       "      <th>City</th>\n",
       "      <th>Temperature(F)</th>\n",
       "      <th>Latitude</th>\n",
       "      <th>Longitude</th>\n",
       "      <th>Humidity</th>\n",
       "      <th>Cloudiness</th>\n",
       "      <th>Wind Speed</th>\n",
       "    </tr>\n",
       "  </thead>\n",
       "  <tbody>\n",
       "    <tr>\n",
       "      <th>17</th>\n",
       "      <td>iki-burul</td>\n",
       "      <td>71.65</td>\n",
       "      <td>45.8208</td>\n",
       "      <td>44.6472</td>\n",
       "      <td>40</td>\n",
       "      <td>0</td>\n",
       "      <td>3.00</td>\n",
       "    </tr>\n",
       "    <tr>\n",
       "      <th>35</th>\n",
       "      <td>emerald</td>\n",
       "      <td>66.34</td>\n",
       "      <td>-23.5333</td>\n",
       "      <td>148.1667</td>\n",
       "      <td>40</td>\n",
       "      <td>0</td>\n",
       "      <td>8.77</td>\n",
       "    </tr>\n",
       "    <tr>\n",
       "      <th>53</th>\n",
       "      <td>mount isa</td>\n",
       "      <td>74.97</td>\n",
       "      <td>-20.7333</td>\n",
       "      <td>139.5000</td>\n",
       "      <td>25</td>\n",
       "      <td>5</td>\n",
       "      <td>9.22</td>\n",
       "    </tr>\n",
       "    <tr>\n",
       "      <th>78</th>\n",
       "      <td>east london</td>\n",
       "      <td>65.08</td>\n",
       "      <td>-33.0153</td>\n",
       "      <td>27.9116</td>\n",
       "      <td>43</td>\n",
       "      <td>63</td>\n",
       "      <td>5.03</td>\n",
       "    </tr>\n",
       "    <tr>\n",
       "      <th>91</th>\n",
       "      <td>taltal</td>\n",
       "      <td>67.59</td>\n",
       "      <td>-25.4000</td>\n",
       "      <td>-70.4833</td>\n",
       "      <td>38</td>\n",
       "      <td>0</td>\n",
       "      <td>3.69</td>\n",
       "    </tr>\n",
       "    <tr>\n",
       "      <th>105</th>\n",
       "      <td>hovd</td>\n",
       "      <td>72.12</td>\n",
       "      <td>48.0056</td>\n",
       "      <td>91.6419</td>\n",
       "      <td>33</td>\n",
       "      <td>42</td>\n",
       "      <td>1.59</td>\n",
       "    </tr>\n",
       "    <tr>\n",
       "      <th>195</th>\n",
       "      <td>airai</td>\n",
       "      <td>72.81</td>\n",
       "      <td>-8.9266</td>\n",
       "      <td>125.4092</td>\n",
       "      <td>48</td>\n",
       "      <td>10</td>\n",
       "      <td>4.94</td>\n",
       "    </tr>\n",
       "    <tr>\n",
       "      <th>287</th>\n",
       "      <td>sao felix do xingu</td>\n",
       "      <td>74.52</td>\n",
       "      <td>-6.6447</td>\n",
       "      <td>-51.9950</td>\n",
       "      <td>46</td>\n",
       "      <td>6</td>\n",
       "      <td>1.12</td>\n",
       "    </tr>\n",
       "    <tr>\n",
       "      <th>404</th>\n",
       "      <td>murgab</td>\n",
       "      <td>71.47</td>\n",
       "      <td>37.4966</td>\n",
       "      <td>61.9714</td>\n",
       "      <td>43</td>\n",
       "      <td>0</td>\n",
       "      <td>6.91</td>\n",
       "    </tr>\n",
       "    <tr>\n",
       "      <th>415</th>\n",
       "      <td>narimanov</td>\n",
       "      <td>66.11</td>\n",
       "      <td>46.6927</td>\n",
       "      <td>47.8498</td>\n",
       "      <td>42</td>\n",
       "      <td>1</td>\n",
       "      <td>5.88</td>\n",
       "    </tr>\n",
       "    <tr>\n",
       "      <th>457</th>\n",
       "      <td>ust-kuyga</td>\n",
       "      <td>66.94</td>\n",
       "      <td>70.0167</td>\n",
       "      <td>135.6000</td>\n",
       "      <td>47</td>\n",
       "      <td>1</td>\n",
       "      <td>8.28</td>\n",
       "    </tr>\n",
       "    <tr>\n",
       "      <th>463</th>\n",
       "      <td>shubarkuduk</td>\n",
       "      <td>72.45</td>\n",
       "      <td>49.1447</td>\n",
       "      <td>56.4872</td>\n",
       "      <td>42</td>\n",
       "      <td>0</td>\n",
       "      <td>8.01</td>\n",
       "    </tr>\n",
       "  </tbody>\n",
       "</table>\n",
       "</div>"
      ],
      "text/plain": [
       "                   City  Temperature(F)  Latitude  Longitude  Humidity  \\\n",
       "17            iki-burul           71.65   45.8208    44.6472        40   \n",
       "35              emerald           66.34  -23.5333   148.1667        40   \n",
       "53            mount isa           74.97  -20.7333   139.5000        25   \n",
       "78          east london           65.08  -33.0153    27.9116        43   \n",
       "91               taltal           67.59  -25.4000   -70.4833        38   \n",
       "105                hovd           72.12   48.0056    91.6419        33   \n",
       "195               airai           72.81   -8.9266   125.4092        48   \n",
       "287  sao felix do xingu           74.52   -6.6447   -51.9950        46   \n",
       "404              murgab           71.47   37.4966    61.9714        43   \n",
       "415           narimanov           66.11   46.6927    47.8498        42   \n",
       "457           ust-kuyga           66.94   70.0167   135.6000        47   \n",
       "463         shubarkuduk           72.45   49.1447    56.4872        42   \n",
       "\n",
       "     Cloudiness  Wind Speed  \n",
       "17            0        3.00  \n",
       "35            0        8.77  \n",
       "53            5        9.22  \n",
       "78           63        5.03  \n",
       "91            0        3.69  \n",
       "105          42        1.59  \n",
       "195          10        4.94  \n",
       "287           6        1.12  \n",
       "404           0        6.91  \n",
       "415           1        5.88  \n",
       "457           1        8.28  \n",
       "463           0        8.01  "
      ]
     },
     "execution_count": 40,
     "metadata": {},
     "output_type": "execute_result"
    }
   ],
   "source": [
    "#Ideal Weather DataFrame\n",
    "ideal_weather_df = weather_df.loc[(weather_df['Temperature(F)'] > low_temp)\\\n",
    "                                  & (weather_df['Temperature(F)'] < high_temp)\\\n",
    "                                  & (weather_df['Wind Speed'] < max_wind_speed)\\\n",
    "                                  & (weather_df['Humidity'] < max_humidity),:]\n",
    "ideal_weather_df"
   ]
  },
  {
   "cell_type": "code",
   "execution_count": 98,
   "id": "f08540b9",
   "metadata": {},
   "outputs": [],
   "source": [
    "#Get marker locations from ideal weather dataset\n",
    "marker_locations = ideal_weather_df[['Latitude','Longitude']].astype(float)"
   ]
  },
  {
   "cell_type": "code",
   "execution_count": 99,
   "id": "7bc96c19",
   "metadata": {},
   "outputs": [],
   "source": [
    "coordinate1 = marker_locations[0:1]"
   ]
  },
  {
   "cell_type": "code",
   "execution_count": 100,
   "id": "1b5a07b8",
   "metadata": {},
   "outputs": [
    {
     "data": {
      "text/html": [
       "<div>\n",
       "<style scoped>\n",
       "    .dataframe tbody tr th:only-of-type {\n",
       "        vertical-align: middle;\n",
       "    }\n",
       "\n",
       "    .dataframe tbody tr th {\n",
       "        vertical-align: top;\n",
       "    }\n",
       "\n",
       "    .dataframe thead th {\n",
       "        text-align: right;\n",
       "    }\n",
       "</style>\n",
       "<table border=\"1\" class=\"dataframe\">\n",
       "  <thead>\n",
       "    <tr style=\"text-align: right;\">\n",
       "      <th></th>\n",
       "      <th>Latitude</th>\n",
       "      <th>Longitude</th>\n",
       "    </tr>\n",
       "  </thead>\n",
       "  <tbody>\n",
       "    <tr>\n",
       "      <th>17</th>\n",
       "      <td>45.8208</td>\n",
       "      <td>44.6472</td>\n",
       "    </tr>\n",
       "  </tbody>\n",
       "</table>\n",
       "</div>"
      ],
      "text/plain": [
       "    Latitude  Longitude\n",
       "17   45.8208    44.6472"
      ]
     },
     "execution_count": 100,
     "metadata": {},
     "output_type": "execute_result"
    }
   ],
   "source": [
    "coordinate1"
   ]
  },
  {
   "cell_type": "code",
   "execution_count": 101,
   "id": "7a3571ef",
   "metadata": {},
   "outputs": [
    {
     "data": {
      "text/plain": [
       "'Iki-Burul'"
      ]
     },
     "execution_count": 101,
     "metadata": {},
     "output_type": "execute_result"
    }
   ],
   "source": [
    "coordinates = \"45.8208, 44.6472\"\n",
    "target_type = \"hotel\"\n",
    "radius = 5000\n",
    "\n",
    "params = {\n",
    "    \"location\": coordinates,\n",
    "    \"types\": target_type,\n",
    "    \"radius\": radius,\n",
    "    \"key\": gkey\n",
    "}\n",
    "\n",
    "base_url = \"https://maps.googleapis.com/maps/api/place/nearbysearch/json\"\n",
    "\n",
    "hotel_response = requests.get(base_url, params).json()\n",
    "\n",
    "hotel_response['results'][0]['name']\n"
   ]
  },
  {
   "cell_type": "code",
   "execution_count": 106,
   "id": "b63b5b89",
   "metadata": {},
   "outputs": [
    {
     "ename": "KeyError",
     "evalue": "0",
     "output_type": "error",
     "traceback": [
      "\u001b[1;31m---------------------------------------------------------------------------\u001b[0m",
      "\u001b[1;31mKeyError\u001b[0m                                  Traceback (most recent call last)",
      "File \u001b[1;32m~\\anaconda3\\envs\\PythonData38\\lib\\site-packages\\pandas\\core\\indexes\\base.py:3621\u001b[0m, in \u001b[0;36mIndex.get_loc\u001b[1;34m(self, key, method, tolerance)\u001b[0m\n\u001b[0;32m   3620\u001b[0m \u001b[38;5;28;01mtry\u001b[39;00m:\n\u001b[1;32m-> 3621\u001b[0m     \u001b[38;5;28;01mreturn\u001b[39;00m \u001b[38;5;28;43mself\u001b[39;49m\u001b[38;5;241;43m.\u001b[39;49m\u001b[43m_engine\u001b[49m\u001b[38;5;241;43m.\u001b[39;49m\u001b[43mget_loc\u001b[49m\u001b[43m(\u001b[49m\u001b[43mcasted_key\u001b[49m\u001b[43m)\u001b[49m\n\u001b[0;32m   3622\u001b[0m \u001b[38;5;28;01mexcept\u001b[39;00m \u001b[38;5;167;01mKeyError\u001b[39;00m \u001b[38;5;28;01mas\u001b[39;00m err:\n",
      "File \u001b[1;32m~\\anaconda3\\envs\\PythonData38\\lib\\site-packages\\pandas\\_libs\\index.pyx:136\u001b[0m, in \u001b[0;36mpandas._libs.index.IndexEngine.get_loc\u001b[1;34m()\u001b[0m\n",
      "File \u001b[1;32m~\\anaconda3\\envs\\PythonData38\\lib\\site-packages\\pandas\\_libs\\index.pyx:163\u001b[0m, in \u001b[0;36mpandas._libs.index.IndexEngine.get_loc\u001b[1;34m()\u001b[0m\n",
      "File \u001b[1;32mpandas\\_libs\\hashtable_class_helper.pxi:5198\u001b[0m, in \u001b[0;36mpandas._libs.hashtable.PyObjectHashTable.get_item\u001b[1;34m()\u001b[0m\n",
      "File \u001b[1;32mpandas\\_libs\\hashtable_class_helper.pxi:5206\u001b[0m, in \u001b[0;36mpandas._libs.hashtable.PyObjectHashTable.get_item\u001b[1;34m()\u001b[0m\n",
      "\u001b[1;31mKeyError\u001b[0m: 0",
      "\nThe above exception was the direct cause of the following exception:\n",
      "\u001b[1;31mKeyError\u001b[0m                                  Traceback (most recent call last)",
      "Input \u001b[1;32mIn [106]\u001b[0m, in \u001b[0;36m<cell line: 1>\u001b[1;34m()\u001b[0m\n\u001b[1;32m----> 1\u001b[0m \u001b[38;5;28;01mfor\u001b[39;00m place \u001b[38;5;129;01min\u001b[39;00m \u001b[43mmarker_locations\u001b[49m\u001b[43m[\u001b[49m\u001b[38;5;241;43m0\u001b[39;49m\u001b[43m]\u001b[49m:\n\u001b[0;32m      2\u001b[0m     lat \u001b[38;5;241m=\u001b[39m place\n\u001b[0;32m      3\u001b[0m     \u001b[38;5;28mprint\u001b[39m(lat)\n",
      "File \u001b[1;32m~\\anaconda3\\envs\\PythonData38\\lib\\site-packages\\pandas\\core\\frame.py:3505\u001b[0m, in \u001b[0;36mDataFrame.__getitem__\u001b[1;34m(self, key)\u001b[0m\n\u001b[0;32m   3503\u001b[0m \u001b[38;5;28;01mif\u001b[39;00m \u001b[38;5;28mself\u001b[39m\u001b[38;5;241m.\u001b[39mcolumns\u001b[38;5;241m.\u001b[39mnlevels \u001b[38;5;241m>\u001b[39m \u001b[38;5;241m1\u001b[39m:\n\u001b[0;32m   3504\u001b[0m     \u001b[38;5;28;01mreturn\u001b[39;00m \u001b[38;5;28mself\u001b[39m\u001b[38;5;241m.\u001b[39m_getitem_multilevel(key)\n\u001b[1;32m-> 3505\u001b[0m indexer \u001b[38;5;241m=\u001b[39m \u001b[38;5;28;43mself\u001b[39;49m\u001b[38;5;241;43m.\u001b[39;49m\u001b[43mcolumns\u001b[49m\u001b[38;5;241;43m.\u001b[39;49m\u001b[43mget_loc\u001b[49m\u001b[43m(\u001b[49m\u001b[43mkey\u001b[49m\u001b[43m)\u001b[49m\n\u001b[0;32m   3506\u001b[0m \u001b[38;5;28;01mif\u001b[39;00m is_integer(indexer):\n\u001b[0;32m   3507\u001b[0m     indexer \u001b[38;5;241m=\u001b[39m [indexer]\n",
      "File \u001b[1;32m~\\anaconda3\\envs\\PythonData38\\lib\\site-packages\\pandas\\core\\indexes\\base.py:3623\u001b[0m, in \u001b[0;36mIndex.get_loc\u001b[1;34m(self, key, method, tolerance)\u001b[0m\n\u001b[0;32m   3621\u001b[0m     \u001b[38;5;28;01mreturn\u001b[39;00m \u001b[38;5;28mself\u001b[39m\u001b[38;5;241m.\u001b[39m_engine\u001b[38;5;241m.\u001b[39mget_loc(casted_key)\n\u001b[0;32m   3622\u001b[0m \u001b[38;5;28;01mexcept\u001b[39;00m \u001b[38;5;167;01mKeyError\u001b[39;00m \u001b[38;5;28;01mas\u001b[39;00m err:\n\u001b[1;32m-> 3623\u001b[0m     \u001b[38;5;28;01mraise\u001b[39;00m \u001b[38;5;167;01mKeyError\u001b[39;00m(key) \u001b[38;5;28;01mfrom\u001b[39;00m \u001b[38;5;21;01merr\u001b[39;00m\n\u001b[0;32m   3624\u001b[0m \u001b[38;5;28;01mexcept\u001b[39;00m \u001b[38;5;167;01mTypeError\u001b[39;00m:\n\u001b[0;32m   3625\u001b[0m     \u001b[38;5;66;03m# If we have a listlike key, _check_indexing_error will raise\u001b[39;00m\n\u001b[0;32m   3626\u001b[0m     \u001b[38;5;66;03m#  InvalidIndexError. Otherwise we fall through and re-raise\u001b[39;00m\n\u001b[0;32m   3627\u001b[0m     \u001b[38;5;66;03m#  the TypeError.\u001b[39;00m\n\u001b[0;32m   3628\u001b[0m     \u001b[38;5;28mself\u001b[39m\u001b[38;5;241m.\u001b[39m_check_indexing_error(key)\n",
      "\u001b[1;31mKeyError\u001b[0m: 0"
     ]
    }
   ],
   "source": [
    "for row in "
   ]
  },
  {
   "cell_type": "code",
   "execution_count": null,
   "id": "94cac838",
   "metadata": {},
   "outputs": [],
   "source": []
  },
  {
   "cell_type": "code",
   "execution_count": null,
   "id": "0877e3b5",
   "metadata": {},
   "outputs": [],
   "source": []
  }
 ],
 "metadata": {
  "kernelspec": {
   "display_name": "Python 3 (ipykernel)",
   "language": "python",
   "name": "python3"
  },
  "language_info": {
   "codemirror_mode": {
    "name": "ipython",
    "version": 3
   },
   "file_extension": ".py",
   "mimetype": "text/x-python",
   "name": "python",
   "nbconvert_exporter": "python",
   "pygments_lexer": "ipython3",
   "version": "3.8.13"
  }
 },
 "nbformat": 4,
 "nbformat_minor": 5
}
