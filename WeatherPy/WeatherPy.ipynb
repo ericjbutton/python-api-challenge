{
 "cells": [
  {
   "cell_type": "code",
   "execution_count": 1,
   "id": "c63cf540",
   "metadata": {},
   "outputs": [],
   "source": [
    " # Dependencies and Setup\n",
    "import matplotlib.pyplot as plt\n",
    "import pandas as pd\n",
    "import numpy as np\n",
    "import requests\n",
    "import time\n",
    "import json\n",
    "from scipy.stats import linregress\n",
    "\n",
    "# Import API key\n",
    "from api_keys import api_key\n",
    "\n",
    "# Incorporated citipy to determine city based on latitude and longitude\n",
    "from citipy import citipy\n",
    "\n",
    "# Output File (CSV)\n",
    "output_data_file = \"output_data/cities.csv\"\n",
    "\n",
    "# Range of latitudes and longitudes\n",
    "lat_range = (-90, 90)\n",
    "lng_range = (-180, 180)"
   ]
  },
  {
   "cell_type": "code",
   "execution_count": 2,
   "id": "3bf31fcc",
   "metadata": {},
   "outputs": [
    {
     "data": {
      "text/plain": [
       "620"
      ]
     },
     "execution_count": 2,
     "metadata": {},
     "output_type": "execute_result"
    }
   ],
   "source": [
    " # List for holding lat_lngs and cities\n",
    "lat_lngs = []\n",
    "cities = []\n",
    "\n",
    "# Create a set of random lat and lng combinations\n",
    "lats = np.random.uniform(lat_range[0], lat_range[1], size=1500)\n",
    "lngs = np.random.uniform(lng_range[0], lng_range[1], size=1500)\n",
    "lat_lngs = zip(lats, lngs)\n",
    "\n",
    "# Identify nearest city for each lat, lng combination\n",
    "for lat_lng in lat_lngs:\n",
    "    city = citipy.nearest_city(lat_lng[0], lat_lng[1]).city_name\n",
    "    \n",
    "    # If the city is unique, then add it to a our cities list\n",
    "    if city not in cities:\n",
    "        cities.append(city)\n",
    "\n",
    "# Print the city count to confirm sufficient count\n",
    "len(cities)"
   ]
  },
  {
   "cell_type": "code",
   "execution_count": 3,
   "id": "606d8914",
   "metadata": {},
   "outputs": [],
   "source": [
    "#Config information and query URL\n",
    "base_url = \"https://api.openweathermap.org/data/2.5/weather?\"\n",
    "units = \"imperial\"\n",
    "query_url = f\"{base_url}appid={api_key}&units={units}&q=\""
   ]
  },
  {
   "cell_type": "code",
   "execution_count": 4,
   "id": "d1e9435a",
   "metadata": {},
   "outputs": [],
   "source": [
    "#lists to hold response info\n",
    "temp = [] #weather_response['main']['temp']\n",
    "latitude = [] #weather_response['coord']['lat']\n",
    "humidity = [] #weather_response['main']['humidity']\n",
    "cloudiness = [] #weather_response['clouds']['all']\n",
    "wind_speed = [] #weather_response['wind']['speed']"
   ]
  },
  {
   "cell_type": "code",
   "execution_count": 5,
   "id": "6e0cf80c",
   "metadata": {},
   "outputs": [
    {
     "data": {
      "text/plain": [
       "[83.12,\n",
       " 53.28,\n",
       " 68.86,\n",
       " 39.22,\n",
       " 79.18,\n",
       " 80.83,\n",
       " 55.36,\n",
       " 71.22,\n",
       " 73.92,\n",
       " 48.15,\n",
       " 79.93,\n",
       " 70.36,\n",
       " 84.85,\n",
       " 66.63,\n",
       " 75.74,\n",
       " 75.24,\n",
       " 39.99,\n",
       " 60.78,\n",
       " 72.07,\n",
       " 80.91,\n",
       " 84.09,\n",
       " 62.42,\n",
       " 58.84,\n",
       " 53.56,\n",
       " 75.79,\n",
       " 85.03,\n",
       " 50.32,\n",
       " 44.6,\n",
       " 57.7,\n",
       " 32.68,\n",
       " 77.61,\n",
       " 81.7,\n",
       " 44.67,\n",
       " 91.35,\n",
       " 48.16,\n",
       " 55.65,\n",
       " 74.43,\n",
       " 77.65,\n",
       " 53.33,\n",
       " 50.72,\n",
       " 53.62,\n",
       " 76.86,\n",
       " 38.86,\n",
       " 88.72,\n",
       " 76.93,\n",
       " 86.09,\n",
       " 66.97,\n",
       " 44.76,\n",
       " 76.77,\n",
       " 82.06,\n",
       " 59.31,\n",
       " 70.36,\n",
       " 48.27,\n",
       " 56.37,\n",
       " 71.76,\n",
       " 74.44,\n",
       " 59.86,\n",
       " 62.78,\n",
       " 61.95,\n",
       " 79.86,\n",
       " 87.31,\n",
       " 72.1,\n",
       " 54.23,\n",
       " 77.65,\n",
       " 61.74,\n",
       " 68.2,\n",
       " 78.98,\n",
       " 43.7,\n",
       " 81.45,\n",
       " 43.97,\n",
       " 73.45,\n",
       " 51.31,\n",
       " 66.61,\n",
       " 47.48,\n",
       " 83.62,\n",
       " 51.75,\n",
       " 43.79,\n",
       " 71.69,\n",
       " 92.12,\n",
       " 54.03,\n",
       " 78.66,\n",
       " 49.93,\n",
       " 74.68,\n",
       " 77.7,\n",
       " 74.77]"
      ]
     },
     "execution_count": 5,
     "metadata": {},
     "output_type": "execute_result"
    }
   ],
   "source": [
    "#loop and retrieve data for cities\n",
    "for city in cities[0:100]:\n",
    "    weather_response = requests.get(query_url + city).json()\n",
    "    try:\n",
    "        temp.append(weather_response['main']['temp'])\n",
    "        latitude.append(weather_response['coord']['lat'])\n",
    "        humidity.append(weather_response['main']['humidity'])\n",
    "        cloudiness.append(weather_response['clouds']['all'])\n",
    "        wind_speed.append(weather_response['wind']['speed'])\n",
    "    except KeyError:\n",
    "        print: \"null\"\n",
    "temp  "
   ]
  },
  {
   "cell_type": "code",
   "execution_count": null,
   "id": "f852b8d6",
   "metadata": {},
   "outputs": [],
   "source": []
  },
  {
   "cell_type": "code",
   "execution_count": null,
   "id": "2ab0adde",
   "metadata": {},
   "outputs": [],
   "source": []
  }
 ],
 "metadata": {
  "kernelspec": {
   "display_name": "Python 3 (ipykernel)",
   "language": "python",
   "name": "python3"
  },
  "language_info": {
   "codemirror_mode": {
    "name": "ipython",
    "version": 3
   },
   "file_extension": ".py",
   "mimetype": "text/x-python",
   "name": "python",
   "nbconvert_exporter": "python",
   "pygments_lexer": "ipython3",
   "version": "3.8.13"
  }
 },
 "nbformat": 4,
 "nbformat_minor": 5
}
